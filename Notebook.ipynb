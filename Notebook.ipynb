{
 "cells": [
  {
   "cell_type": "markdown",
   "id": "geological-rendering",
   "metadata": {},
   "source": [
    "<h1 style=\"text-align: center;\"><span style=\"color: #003366;\">IBM Applied Data Science Capstone Project</span></h1>"
   ]
  },
  {
   "cell_type": "markdown",
   "id": "rental-integral",
   "metadata": {},
   "source": [
    "<p style=\"text-align: center;\">This notebook will be used for IBM Applied Data Science Capstone Project on Coursera.</p>"
   ]
  },
  {
   "cell_type": "code",
   "execution_count": 3,
   "id": "spiritual-transition",
   "metadata": {},
   "outputs": [],
   "source": [
    "import pandas as pd\n",
    "import numpy as np"
   ]
  },
  {
   "cell_type": "code",
   "execution_count": null,
   "id": "angry-junction",
   "metadata": {},
   "outputs": [],
   "source": [
    "print(\"Hello Capstone Project!\")"
   ]
  }
 ],
 "metadata": {
  "kernelspec": {
   "display_name": "Python 3",
   "language": "python",
   "name": "python3"
  },
  "language_info": {
   "codemirror_mode": {
    "name": "ipython",
    "version": 3
   },
   "file_extension": ".py",
   "mimetype": "text/x-python",
   "name": "python",
   "nbconvert_exporter": "python",
   "pygments_lexer": "ipython3",
   "version": "3.8.5"
  }
 },
 "nbformat": 4,
 "nbformat_minor": 5
}
